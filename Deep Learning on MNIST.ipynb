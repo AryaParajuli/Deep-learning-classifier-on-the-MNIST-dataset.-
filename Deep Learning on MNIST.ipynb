{
 "cells": [
  {
   "cell_type": "markdown",
   "id": "d4f9541b",
   "metadata": {},
   "source": [
    "## Python model that trains and evaluates a deep learning classifier on the MNIST dataset. \n"
   ]
  },
  {
   "cell_type": "markdown",
   "id": "b7229581",
   "metadata": {},
   "source": [
    "## Load and Preprocess Data\n",
    "I start by loading the MNIST dataset, which contains images of handwritten digits. The images are then preprocessed to ensure they're in the right format for training."
   ]
  },
  {
   "cell_type": "code",
   "execution_count": null,
   "id": "c40770e9",
   "metadata": {},
   "outputs": [],
   "source": [
    "# Import necessary libraries\n",
    "import numpy as np\n",
    "import tensorflow as tf\n",
    "from tensorflow import keras\n",
    "from tensorflow.keras import layers\n",
    "from kerastuner.tuners import RandomSearch\n",
    "from sklearn.model_selection import train_test_split"
   ]
  },
  {
   "cell_type": "code",
   "execution_count": 49,
   "id": "2a466763",
   "metadata": {},
   "outputs": [
    {
     "data": {
      "text/plain": [
       "'2.15.0'"
      ]
     },
     "execution_count": 49,
     "metadata": {},
     "output_type": "execute_result"
    }
   ],
   "source": [
    "import keras\n",
    "keras.__version__"
   ]
  },
  {
   "cell_type": "markdown",
   "id": "d3124de5",
   "metadata": {},
   "source": [
    "## Training using the MNIST dataset\n",
    "The following network will be used to process the MNIST dataset\n",
    "The following code will load the MNIST dataset from keras. "
   ]
  },
  {
   "cell_type": "code",
   "execution_count": 52,
   "id": "979ef7db",
   "metadata": {},
   "outputs": [],
   "source": [
    "mnist = keras.datasets.mnist\n",
    "(train_images, train_labels), (test_images, test_labels) = mnist.load_data()\n",
    "\n",
    "# Preprocess the data\n",
    "train_images = train_images.reshape((60000, 28, 28, 1))\n",
    "train_images = train_images.astype('float32') / 255.0\n",
    "test_images = test_images.reshape((10000, 28, 28, 1))\n",
    "test_images = test_images.astype('float32') / 255.0\n",
    "\n",
    "# Use a smaller subset of the data for tuning and training in case the original is large\n",
    "#subset_size = 1000\n",
    "#train_images_subset, _, train_labels_subset, _ = train_test_split(train_images, train_labels, test_size=(1 - subset_size/len(train_images)))\n",
    "\n",
    "# Split the dataset into training and validation sets\n",
    "train_images, val_images, train_labels, val_labels = train_test_split(train_images, train_labels, test_size=0.1)\n"
   ]
  },
  {
   "cell_type": "code",
   "execution_count": 53,
   "id": "05338b86",
   "metadata": {},
   "outputs": [
    {
     "data": {
      "text/plain": [
       "(54000, 28, 28, 1)"
      ]
     },
     "execution_count": 53,
     "metadata": {},
     "output_type": "execute_result"
    }
   ],
   "source": [
    "train_images.shape"
   ]
  },
  {
   "cell_type": "code",
   "execution_count": 54,
   "id": "0966bfa6",
   "metadata": {},
   "outputs": [
    {
     "data": {
      "text/plain": [
       "(10000, 28, 28, 1)"
      ]
     },
     "execution_count": 54,
     "metadata": {},
     "output_type": "execute_result"
    }
   ],
   "source": [
    "test_images.shape"
   ]
  },
  {
   "cell_type": "code",
   "execution_count": 56,
   "id": "6ef9344d",
   "metadata": {},
   "outputs": [
    {
     "data": {
      "image/png": "[encoded data removed]",
      "text/plain": [
       "<Figure size 640x480 with 5 Axes>"
      ]
     },
     "metadata": {},
     "output_type": "display_data"
    }
   ],
   "source": [
    "%matplotlib inline\n",
    "from matplotlib import pyplot as plt\n",
    "for i in range(5):\n",
    "    plt.subplot(1,5,1+i)\n",
    "    plt.axis('off')\n",
    "    plt.imshow(train_images[i], cmap=\"gray\")"
   ]
  },
  {
   "cell_type": "markdown",
   "id": "c7622150",
   "metadata": {},
   "source": [
    "## Define Hyperparameter Search Space and Initialize Tuner\n",
    "I set up the architecture of our neural network and create a tuner to search for the best hyperparameters.\n",
    "\\\n",
    "I have used the model (build_deep_nn) which defines a deep neural network architecture using Keras. \n",
    "the number of hidden layer will range from min 1 to max 3, the tuner will esplore the different combination and will choose the best combition that will give the best validation accuracy\n",
    "\\\n",
    "The hidden size ranges from:\n",
    " 'min_value': 32, 'max_value': 128, 'step': 32\n",
    " \n",
    "the output of optimal hyperparameters are in the next step!!\n"
   ]
  },
  {
   "cell_type": "code",
   "execution_count": 43,
   "id": "bc0793ad",
   "metadata": {},
   "outputs": [
    {
     "name": "stdout",
     "output_type": "stream",
     "text": [
      "Model: \"sequential_7\"\n",
      "_________________________________________________________________\n",
      " Layer (type)                Output Shape              Param #   \n",
      "=================================================================\n",
      " flatten_7 (Flatten)         (None, 784)               0         \n",
      "                                                                 \n",
      " dense_21 (Dense)            (None, 40)                31400     \n",
      "                                                                 \n",
      " dense_22 (Dense)            (None, 20)                820       \n",
      "                                                                 \n",
      " dropout_8 (Dropout)         (None, 20)                0         \n",
      "                                                                 \n",
      " dense_23 (Dense)            (None, 10)                210       \n",
      "                                                                 \n",
      "=================================================================\n",
      "Total params: 32430 (126.68 KB)\n",
      "Trainable params: 32430 (126.68 KB)\n",
      "Non-trainable params: 0 (0.00 Byte)\n",
      "_________________________________________________________________\n",
      "relu\n",
      "relu\n",
      "sigmoid\n",
      "Reloading Tuner from my_dir/mnist_tuning/tuner0.json\n",
      "Search space summary\n",
      "Default search space size: 2\n",
      "num_hidden_layers (Int)\n",
      "{'default': None, 'conditions': [], 'min_value': 1, 'max_value': 3, 'step': 1, 'sampling': 'linear'}\n",
      "hidden_size (Int)\n",
      "{'default': None, 'conditions': [], 'min_value': 32, 'max_value': 128, 'step': 32, 'sampling': 'linear'}\n"
     ]
    }
   ],
   "source": [
    "# Define the hyperparameter search space\n",
    "# Build the model with the optimal hyperparameters\n",
    "# Modified Model\n",
    "from tensorflow import keras\n",
    "from tensorflow.keras import layers\n",
    "\n",
    "def build_deep_nn(rows, columns, channels, num_hidden, hidden_sizes, dropout_rates, output_size, output_activation):\n",
    "    model = keras.Sequential()\n",
    "    model.add(layers.Flatten(input_shape=(rows, columns, channels)))\n",
    "\n",
    "    for i in range(num_hidden):\n",
    "        model.add(layers.Dense(hidden_sizes[i], activation='relu'))\n",
    "        if dropout_rates[i] > 0:\n",
    "            model.add(layers.Dropout(dropout_rates[i]))\n",
    "\n",
    "    model.add(layers.Dense(output_size, activation=output_activation))\n",
    "    \n",
    "    return model\n",
    "\n",
    "model = build_deep_nn(28, 28, 1, 2, (40, 20), (0, 0.5), 10, 'sigmoid')\n",
    "model.summary()\n",
    "\n",
    "print(model.layers[1].get_config()['activation'])  # Output: 'relu'\n",
    "print(model.layers[2].get_config()['activation'])  # Output: 'relu'\n",
    "print(model.layers[4].get_config()['activation'])  # Output: 'sigmoid'\n",
    "\n",
    "# Initialize tuner\n",
    "tuner = RandomSearch(\n",
    "    build_deep_nn,\n",
    "    objective='val_accuracy',\n",
    "    max_trials=5,\n",
    "    executions_per_trial=1,\n",
    "    directory='my_dir',\n",
    "    project_name='mnist_tuning'\n",
    ")\n",
    "tuner.search_space_summary()"
   ]
  },
  {
   "cell_type": "code",
   "execution_count": 44,
   "id": "8dffcbd7",
   "metadata": {},
   "outputs": [
    {
     "name": "stdout",
     "output_type": "stream",
     "text": [
      "(54000, 28, 28, 1) (54000,) (6000, 28, 28, 1) (6000,)\n"
     ]
    }
   ],
   "source": [
    "print(train_images.shape, train_labels.shape, val_images.shape, val_labels.shape)\n"
   ]
  },
  {
   "cell_type": "markdown",
   "id": "b0871755",
   "metadata": {},
   "source": [
    "## Search for the Best Hyperparameters\n",
    "I searched for the best hyperparameters using a subset of the training data."
   ]
  },
  {
   "cell_type": "code",
   "execution_count": 45,
   "id": "2c5e1bc0",
   "metadata": {},
   "outputs": [
    {
     "name": "stdout",
     "output_type": "stream",
     "text": [
      "Optimal Hyperparameters:\n",
      "Number of hidden layers: 3\n",
      "Hidden layer size: 128\n",
      "Dropout rates: [0, 0, 0.5]\n"
     ]
    }
   ],
   "source": [
    "# Search for the best hyperparameters\n",
    "tuner.search(train_images, train_labels, epochs=5, validation_data=(val_images, val_labels))\n",
    "\n",
    "# Get the optimal hyperparameters\n",
    "best_hps = tuner.get_best_hyperparameters(num_trials=1)[0]\n",
    "\n",
    "# Print the optimal hyperparameters\n",
    "print(\"Optimal Hyperparameters:\")\n",
    "print(f\"Number of hidden layers: {best_hps.get('num_hidden_layers')}\")\n",
    "print(f\"Hidden layer size: {best_hps.get('hidden_size')}\")\n",
    "dropout_rates = [0.5 if i == best_hps.get('num_hidden_layers') - 1 else 0 for i in range(best_hps.get('num_hidden_layers'))]\n",
    "print(f\"Dropout rates: {dropout_rates}\")"
   ]
  },
  {
   "cell_type": "markdown",
   "id": "4a6bd501",
   "metadata": {},
   "source": [
    "## Compile and Train the Model with Optimal Hyperparameters\n",
    "I used the best hyperparameters to build and train the neural network."
   ]
  },
  {
   "cell_type": "code",
   "execution_count": 46,
   "id": "2ad9594e",
   "metadata": {},
   "outputs": [
    {
     "name": "stdout",
     "output_type": "stream",
     "text": [
      "Epoch 1/10\n",
      "1688/1688 [==============================] - 4s 2ms/step - loss: 0.8134 - accuracy: 0.7314 - val_loss: 0.2601 - val_accuracy: 0.9263\n",
      "Epoch 2/10\n",
      "1688/1688 [==============================] - 3s 2ms/step - loss: 0.4958 - accuracy: 0.8469 - val_loss: 0.2064 - val_accuracy: 0.9402\n",
      "Epoch 3/10\n",
      "1688/1688 [==============================] - 3s 2ms/step - loss: 0.4185 - accuracy: 0.8711 - val_loss: 0.1896 - val_accuracy: 0.9447\n",
      "Epoch 4/10\n",
      "1688/1688 [==============================] - 3s 2ms/step - loss: 0.3726 - accuracy: 0.8816 - val_loss: 0.1758 - val_accuracy: 0.9508\n",
      "Epoch 5/10\n",
      "1688/1688 [==============================] - 3s 2ms/step - loss: 0.3457 - accuracy: 0.8899 - val_loss: 0.1662 - val_accuracy: 0.9533\n",
      "Epoch 6/10\n",
      "1688/1688 [==============================] - 3s 2ms/step - loss: 0.3276 - accuracy: 0.8958 - val_loss: 0.1618 - val_accuracy: 0.9595\n",
      "Epoch 7/10\n",
      "1688/1688 [==============================] - 3s 2ms/step - loss: 0.3162 - accuracy: 0.8961 - val_loss: 0.1576 - val_accuracy: 0.9567\n",
      "Epoch 8/10\n",
      "1688/1688 [==============================] - 3s 2ms/step - loss: 0.2964 - accuracy: 0.9042 - val_loss: 0.1616 - val_accuracy: 0.9578\n",
      "Epoch 9/10\n",
      "1688/1688 [==============================] - 3s 2ms/step - loss: 0.2892 - accuracy: 0.9088 - val_loss: 0.1614 - val_accuracy: 0.9588\n",
      "Epoch 10/10\n",
      "1688/1688 [==============================] - 4s 2ms/step - loss: 0.2787 - accuracy: 0.9127 - val_loss: 0.1561 - val_accuracy: 0.9608\n"
     ]
    },
    {
     "data": {
      "text/plain": [
       "<keras.src.callbacks.History at 0x7f88c1288cd0>"
      ]
     },
     "execution_count": 46,
     "metadata": {},
     "output_type": "execute_result"
    }
   ],
   "source": [
    "# Compile the model\n",
    "model.compile(optimizer='adam',\n",
    "              loss='sparse_categorical_crossentropy',\n",
    "              metrics=['accuracy'])\n",
    "\n",
    "# Train the model using the full training set\n",
    "model.fit(train_images, train_labels, epochs=10, validation_data=(val_images, val_labels))"
   ]
  },
  {
   "cell_type": "markdown",
   "id": "e756d6c6",
   "metadata": {},
   "source": [
    "## Evaluate the Model on the Test Set\n",
    "Finally, we evaluate the trained model on the test set to see how well it performs."
   ]
  },
  {
   "cell_type": "code",
   "execution_count": 47,
   "id": "3013afad",
   "metadata": {},
   "outputs": [
    {
     "name": "stdout",
     "output_type": "stream",
     "text": [
      "313/313 [==============================] - 1s 2ms/step - loss: 0.1579 - accuracy: 0.9602\n",
      "Test accuracy: 0.9602000117301941\n"
     ]
    }
   ],
   "source": [
    "# Evaluate the model on the test set\n",
    "test_loss, test_acc = model.evaluate(test_images, test_labels)\n",
    "print('Test accuracy:', test_acc)"
   ]
  },
  {
   "cell_type": "markdown",
   "id": "c4a6223a",
   "metadata": {},
   "source": [
    "### Hyperparameters of the optimal model:\n",
    "\n",
    "* Optimal Hyperparameters:\n",
    "* Number of hidden layers: 3\n",
    "* Hidden layer size: 128\n",
    "* Dropout rates: [0, 0, 0.5]\n",
    "\n",
    "### The accuracy results of the optimal model on the test set:\n",
    "\n",
    "**Test accuracy: 0.9602**"
   ]
  }
 ],
 "metadata": {
  "kernelspec": {
   "display_name": "Python 3 (ipykernel)",
   "language": "python",
   "name": "python3"
  },
  "language_info": {
   "codemirror_mode": {
    "name": "ipython",
    "version": 3
   },
   "file_extension": ".py",
   "mimetype": "text/x-python",
   "name": "python",
   "nbconvert_exporter": "python",
   "pygments_lexer": "ipython3",
   "version": "3.9.16"
  }
 },
 "nbformat": 4,
 "nbformat_minor": 5
}
